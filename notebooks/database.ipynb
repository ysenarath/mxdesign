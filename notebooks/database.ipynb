{
 "cells": [
  {
   "cell_type": "code",
   "execution_count": 1,
   "id": "b5129a1b-df86-43f4-893b-e2de21fb9d28",
   "metadata": {},
   "outputs": [
    {
     "name": "stdout",
     "output_type": "stream",
     "text": [
      "/Users/yasas/Documents/Projects/mxdesign\n"
     ]
    }
   ],
   "source": [
    "cd .."
   ]
  },
  {
   "cell_type": "code",
   "execution_count": 2,
   "id": "4d69e5b6-bdcb-4171-a886-fce21eba744c",
   "metadata": {},
   "outputs": [],
   "source": [
    "from mxdesign.model import Environment"
   ]
  },
  {
   "cell_type": "code",
   "execution_count": 3,
   "id": "1533c9a8-20b1-4d02-af02-4b73b072f4e0",
   "metadata": {},
   "outputs": [],
   "source": [
    "env = Environment('sqlite:///output/sample.db')"
   ]
  },
  {
   "cell_type": "code",
   "execution_count": 4,
   "id": "81b2568e-2f0f-4fa3-bbe9-7ced8d373253",
   "metadata": {},
   "outputs": [],
   "source": [
    "expr = env.get_or_create_experiment('sample_experiment')"
   ]
  },
  {
   "cell_type": "code",
   "execution_count": 5,
   "id": "8f1735ae-75aa-41df-8ca5-ea0770b7d9eb",
   "metadata": {},
   "outputs": [],
   "source": [
    "try:\n",
    "    run = expr.start_run('run-0')\n",
    "except ValueError:\n",
    "    pass"
   ]
  },
  {
   "cell_type": "code",
   "execution_count": 6,
   "id": "c11b8cdd-d4cb-4021-9331-21bd167b4973",
   "metadata": {},
   "outputs": [],
   "source": [
    "run = next(iter(expr.list_runs('run-0')))"
   ]
  },
  {
   "cell_type": "code",
   "execution_count": 7,
   "id": "08aee523-0d75-4300-af92-205c8b64e514",
   "metadata": {},
   "outputs": [
    {
     "data": {
      "text/plain": [
       "'This is Run number 0'"
      ]
     },
     "execution_count": 7,
     "metadata": {},
     "output_type": "execute_result"
    }
   ],
   "source": [
    "run.description = 'This is Run number 0'\n",
    "\n",
    "run.description "
   ]
  },
  {
   "cell_type": "code",
   "execution_count": 8,
   "id": "584ae32d-2735-4e05-8d32-6f5992c868b1",
   "metadata": {},
   "outputs": [
    {
     "ename": "ValueError",
     "evalue": "variable with name 'num_epochs' exists",
     "output_type": "error",
     "traceback": [
      "\u001b[0;31m---------------------------------------------------------------------------\u001b[0m",
      "\u001b[0;31mValueError\u001b[0m                                Traceback (most recent call last)",
      "Cell \u001b[0;32mIn[8], line 1\u001b[0m\n\u001b[0;32m----> 1\u001b[0m num_epochs \u001b[38;5;241m=\u001b[39m \u001b[43mrun\u001b[49m\u001b[38;5;241;43m.\u001b[39;49m\u001b[43mlog_param\u001b[49m\u001b[43m(\u001b[49m\u001b[38;5;124;43m'\u001b[39;49m\u001b[38;5;124;43mnum_epochs\u001b[39;49m\u001b[38;5;124;43m'\u001b[39;49m\u001b[43m,\u001b[49m\u001b[43m \u001b[49m\u001b[38;5;241;43m10\u001b[39;49m\u001b[43m)\u001b[49m\u001b[38;5;241m.\u001b[39mvalue\n\u001b[1;32m      2\u001b[0m batch_size \u001b[38;5;241m=\u001b[39m run\u001b[38;5;241m.\u001b[39mlog_param(\u001b[38;5;124m'\u001b[39m\u001b[38;5;124mbatch_size\u001b[39m\u001b[38;5;124m'\u001b[39m, \u001b[38;5;241m8\u001b[39m)\u001b[38;5;241m.\u001b[39mvalue\n\u001b[1;32m      3\u001b[0m temp \u001b[38;5;241m=\u001b[39m run\u001b[38;5;241m.\u001b[39mlog_param(\u001b[38;5;124m'\u001b[39m\u001b[38;5;124mtemp\u001b[39m\u001b[38;5;124m'\u001b[39m, \u001b[38;5;241m8\u001b[39m)\u001b[38;5;241m.\u001b[39mvalue\n",
      "File \u001b[0;32m~/Documents/Projects/mxdesign/mxdesign/model/base.py:79\u001b[0m, in \u001b[0;36mModel._local_session_wrapper.<locals>.wrapper\u001b[0;34m(*args, **kwargs)\u001b[0m\n\u001b[1;32m     75\u001b[0m token \u001b[38;5;241m=\u001b[39m session_var\u001b[38;5;241m.\u001b[39mset(\u001b[38;5;28mself\u001b[39m\u001b[38;5;241m.\u001b[39msession)\n\u001b[1;32m     76\u001b[0m \u001b[38;5;28;01mtry\u001b[39;00m:\n\u001b[1;32m     77\u001b[0m     \u001b[38;5;66;03m# set the current local session to be observed by the\u001b[39;00m\n\u001b[1;32m     78\u001b[0m     \u001b[38;5;66;03m# following function call\u001b[39;00m\n\u001b[0;32m---> 79\u001b[0m     \u001b[38;5;28;01mreturn\u001b[39;00m \u001b[43mfunc\u001b[49m\u001b[43m(\u001b[49m\u001b[38;5;241;43m*\u001b[39;49m\u001b[43margs\u001b[49m\u001b[43m,\u001b[49m\u001b[43m \u001b[49m\u001b[38;5;241;43m*\u001b[39;49m\u001b[38;5;241;43m*\u001b[39;49m\u001b[43mkwargs\u001b[49m\u001b[43m)\u001b[49m\n\u001b[1;32m     80\u001b[0m \u001b[38;5;28;01mfinally\u001b[39;00m:\n\u001b[1;32m     81\u001b[0m     session_var\u001b[38;5;241m.\u001b[39mreset(token)\n",
      "File \u001b[0;32m~/Documents/Projects/mxdesign/mxdesign/model/run.py:170\u001b[0m, in \u001b[0;36mRun.log_param\u001b[0;34m(self, name, value, step)\u001b[0m\n\u001b[1;32m    164\u001b[0m \u001b[38;5;28;01mdef\u001b[39;00m \u001b[38;5;21mlog_param\u001b[39m(\n\u001b[1;32m    165\u001b[0m     \u001b[38;5;28mself\u001b[39m,\n\u001b[1;32m    166\u001b[0m     name: \u001b[38;5;28mstr\u001b[39m,\n\u001b[1;32m    167\u001b[0m     value: \u001b[38;5;28mstr\u001b[39m,\n\u001b[1;32m    168\u001b[0m     step: Optional[\u001b[38;5;28mint\u001b[39m] \u001b[38;5;241m=\u001b[39m \u001b[38;5;28;01mNone\u001b[39;00m,\n\u001b[1;32m    169\u001b[0m ):\n\u001b[0;32m--> 170\u001b[0m     \u001b[38;5;28;01mreturn\u001b[39;00m \u001b[43mVariable\u001b[49m\u001b[43m(\u001b[49m\n\u001b[1;32m    171\u001b[0m \u001b[43m        \u001b[49m\u001b[43mname\u001b[49m\u001b[38;5;241;43m=\u001b[39;49m\u001b[43mname\u001b[49m\u001b[43m,\u001b[49m\n\u001b[1;32m    172\u001b[0m \u001b[43m        \u001b[49m\u001b[43mvalue\u001b[49m\u001b[38;5;241;43m=\u001b[39;49m\u001b[43mvalue\u001b[49m\u001b[43m,\u001b[49m\n\u001b[1;32m    173\u001b[0m \u001b[43m        \u001b[49m\u001b[38;5;28;43mtype\u001b[39;49m\u001b[38;5;241;43m=\u001b[39;49m\u001b[38;5;124;43m\"\u001b[39;49m\u001b[38;5;124;43mparam\u001b[39;49m\u001b[38;5;124;43m\"\u001b[39;49m\u001b[43m,\u001b[49m\n\u001b[1;32m    174\u001b[0m \u001b[43m        \u001b[49m\u001b[43mstep\u001b[49m\u001b[38;5;241;43m=\u001b[39;49m\u001b[43mstep\u001b[49m\u001b[43m,\u001b[49m\n\u001b[1;32m    175\u001b[0m \u001b[43m        \u001b[49m\u001b[43mrun_id\u001b[49m\u001b[38;5;241;43m=\u001b[39;49m\u001b[38;5;28;43mself\u001b[39;49m\u001b[38;5;241;43m.\u001b[39;49m\u001b[43mid\u001b[49m\u001b[43m,\u001b[49m\n\u001b[1;32m    176\u001b[0m \u001b[43m    \u001b[49m\u001b[43m)\u001b[49m\n",
      "File \u001b[0;32m~/Documents/Projects/mxdesign/mxdesign/model/variable.py:75\u001b[0m, in \u001b[0;36mVariable.__init__\u001b[0;34m(self, name, value, type, step, run_id, id)\u001b[0m\n\u001b[1;32m     70\u001b[0m     error_message: \u001b[38;5;28mstr\u001b[39m \u001b[38;5;241m=\u001b[39m ex\u001b[38;5;241m.\u001b[39margs[\u001b[38;5;241m0\u001b[39m]\n\u001b[1;32m     71\u001b[0m \u001b[38;5;28;01mif\u001b[39;00m (\n\u001b[1;32m     72\u001b[0m     error_message \u001b[38;5;129;01mis\u001b[39;00m \u001b[38;5;129;01mnot\u001b[39;00m \u001b[38;5;28;01mNone\u001b[39;00m\n\u001b[1;32m     73\u001b[0m     \u001b[38;5;129;01mand\u001b[39;00m \u001b[38;5;124m\"\u001b[39m\u001b[38;5;124midx_name_step_run_id\u001b[39m\u001b[38;5;124m\"\u001b[39m \u001b[38;5;129;01min\u001b[39;00m error_message\n\u001b[1;32m     74\u001b[0m ):\n\u001b[0;32m---> 75\u001b[0m     \u001b[38;5;28;01mraise\u001b[39;00m \u001b[38;5;167;01mValueError\u001b[39;00m(\u001b[38;5;124mf\u001b[39m\u001b[38;5;124m\"\u001b[39m\u001b[38;5;124mvariable with name \u001b[39m\u001b[38;5;124m'\u001b[39m\u001b[38;5;132;01m{\u001b[39;00mname\u001b[38;5;132;01m}\u001b[39;00m\u001b[38;5;124m'\u001b[39m\u001b[38;5;124m exists\u001b[39m\u001b[38;5;124m\"\u001b[39m)\n\u001b[1;32m     76\u001b[0m \u001b[38;5;28mid\u001b[39m \u001b[38;5;241m=\u001b[39m result\u001b[38;5;241m.\u001b[39minserted_primary_key[\u001b[38;5;241m0\u001b[39m]\n\u001b[1;32m     77\u001b[0m conn\u001b[38;5;241m.\u001b[39mcommit()\n",
      "\u001b[0;31mValueError\u001b[0m: variable with name 'num_epochs' exists"
     ]
    }
   ],
   "source": [
    "num_epochs = run.log_param('num_epochs', 10).value\n",
    "batch_size = run.log_param('batch_size', 8).value\n",
    "temp = run.log_param('temp', 8).value"
   ]
  },
  {
   "cell_type": "code",
   "execution_count": null,
   "id": "98355780-7bce-4369-b0d7-5c77229616a0",
   "metadata": {},
   "outputs": [],
   "source": [
    "num_epochs == 10"
   ]
  },
  {
   "cell_type": "code",
   "execution_count": null,
   "id": "7d20ab01-2f32-4879-a139-2cf3e0d29aab",
   "metadata": {},
   "outputs": [],
   "source": [
    "batch_run = run.start_run('steps')"
   ]
  },
  {
   "cell_type": "code",
   "execution_count": null,
   "id": "74121a6e-fdc6-4187-9c1d-a95007bf66a4",
   "metadata": {},
   "outputs": [],
   "source": [
    "for step in range(0, batch_size):\n",
    "    nested_temp = batch_run.log_param('temp', 8, step=step).value\n",
    "    f1_score = batch_run.log_param('f1_score', 0.5 + (batch_size - step + 1) / (2 * batch_size), step=step).value"
   ]
  },
  {
   "cell_type": "code",
   "execution_count": null,
   "id": "9668dae9-acaf-4070-b5d2-8cbbb8211a43",
   "metadata": {},
   "outputs": [],
   "source": [
    "nested_run = next(iter(run.list_runs()))"
   ]
  },
  {
   "cell_type": "code",
   "execution_count": null,
   "id": "93b1f09a-3411-4409-b9ab-66c697cc6707",
   "metadata": {},
   "outputs": [],
   "source": [
    "nested_run.name"
   ]
  },
  {
   "cell_type": "code",
   "execution_count": 10,
   "id": "13fb20d9-4823-481c-bac5-55d7e3c2f45d",
   "metadata": {},
   "outputs": [],
   "source": [
    "page = env.list_experiments()"
   ]
  },
  {
   "cell_type": "code",
   "execution_count": 11,
   "id": "32084ea1-6d78-4bb5-91de-e3960891444a",
   "metadata": {},
   "outputs": [
    {
     "data": {
      "text/plain": [
       "(1, 'sample_experiment', None)"
      ]
     },
     "execution_count": 11,
     "metadata": {},
     "output_type": "execute_result"
    }
   ],
   "source": [
    "page[0]"
   ]
  },
  {
   "cell_type": "code",
   "execution_count": 12,
   "id": "d0ecb9b5-3306-476c-adc7-69b922f1441b",
   "metadata": {},
   "outputs": [
    {
     "ename": "AttributeError",
     "evalue": "'Pagination' object has no attribute '__origin__'",
     "output_type": "error",
     "traceback": [
      "\u001b[0;31m---------------------------------------------------------------------------\u001b[0m",
      "\u001b[0;31mAttributeError\u001b[0m                            Traceback (most recent call last)",
      "Cell \u001b[0;32mIn[12], line 1\u001b[0m\n\u001b[0;32m----> 1\u001b[0m \u001b[43mpage\u001b[49m\u001b[38;5;241;43m.\u001b[39;49m\u001b[43m__origin__\u001b[49m\n",
      "\u001b[0;31mAttributeError\u001b[0m: 'Pagination' object has no attribute '__origin__'"
     ]
    }
   ],
   "source": [
    "page.__origin__"
   ]
  },
  {
   "cell_type": "code",
   "execution_count": null,
   "id": "6fde670b-882b-4582-9872-da047eb0ed4d",
   "metadata": {},
   "outputs": [],
   "source": []
  }
 ],
 "metadata": {
  "kernelspec": {
   "display_name": "Python 3 (ipykernel)",
   "language": "python",
   "name": "python3"
  },
  "language_info": {
   "codemirror_mode": {
    "name": "ipython",
    "version": 3
   },
   "file_extension": ".py",
   "mimetype": "text/x-python",
   "name": "python",
   "nbconvert_exporter": "python",
   "pygments_lexer": "ipython3",
   "version": "3.11.5"
  }
 },
 "nbformat": 4,
 "nbformat_minor": 5
}
