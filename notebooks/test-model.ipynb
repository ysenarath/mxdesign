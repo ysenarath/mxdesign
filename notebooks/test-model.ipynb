{
 "cells": [
  {
   "cell_type": "code",
   "execution_count": 1,
   "id": "b5129a1b-df86-43f4-893b-e2de21fb9d28",
   "metadata": {},
   "outputs": [
    {
     "name": "stdout",
     "output_type": "stream",
     "text": [
      "/Users/yasas/Documents/Projects/mxdesign\n"
     ]
    }
   ],
   "source": [
    "cd .."
   ]
  },
  {
   "cell_type": "code",
   "execution_count": 2,
   "id": "4d69e5b6-bdcb-4171-a886-fce21eba744c",
   "metadata": {},
   "outputs": [],
   "source": [
    "from mxdesign.model import Environment"
   ]
  },
  {
   "cell_type": "code",
   "execution_count": 3,
   "id": "1533c9a8-20b1-4d02-af02-4b73b072f4e0",
   "metadata": {},
   "outputs": [],
   "source": [
    "env = Environment('sqlite:///output/sample.db')"
   ]
  },
  {
   "cell_type": "code",
   "execution_count": 4,
   "id": "21717e1d-7805-4bac-b1f3-aea8e1bcb348",
   "metadata": {},
   "outputs": [],
   "source": [
    "page = env.list_experiments()"
   ]
  },
  {
   "cell_type": "code",
   "execution_count": 5,
   "id": "2dee3da8-892d-4acb-957f-e41af63f92df",
   "metadata": {},
   "outputs": [],
   "source": [
    "expr = page[0]"
   ]
  },
  {
   "cell_type": "code",
   "execution_count": 6,
   "id": "1885ed99-9cbb-4141-b79d-804c7c926bf3",
   "metadata": {},
   "outputs": [],
   "source": [
    "runs = expr.list_runs()"
   ]
  },
  {
   "cell_type": "code",
   "execution_count": 7,
   "id": "68310667-c9d3-49bf-837c-d4f1cf2c00ad",
   "metadata": {},
   "outputs": [
    {
     "data": {
      "text/plain": [
       "<mxdesign.model.run.Run at 0x10aa12050>"
      ]
     },
     "execution_count": 7,
     "metadata": {},
     "output_type": "execute_result"
    }
   ],
   "source": [
    "runs[0]"
   ]
  },
  {
   "cell_type": "code",
   "execution_count": null,
   "id": "5b93a05f-3bb0-4309-b30e-c5b6533c7063",
   "metadata": {},
   "outputs": [],
   "source": []
  }
 ],
 "metadata": {
  "kernelspec": {
   "display_name": "Python 3 (ipykernel)",
   "language": "python",
   "name": "python3"
  },
  "language_info": {
   "codemirror_mode": {
    "name": "ipython",
    "version": 3
   },
   "file_extension": ".py",
   "mimetype": "text/x-python",
   "name": "python",
   "nbconvert_exporter": "python",
   "pygments_lexer": "ipython3",
   "version": "3.11.5"
  }
 },
 "nbformat": 4,
 "nbformat_minor": 5
}
